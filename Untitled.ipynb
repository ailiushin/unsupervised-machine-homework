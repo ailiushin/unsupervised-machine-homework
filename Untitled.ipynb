{
 "cells": [
  {
   "cell_type": "code",
   "execution_count": null,
   "id": "ae6e8e27",
   "metadata": {},
   "outputs": [],
   "source": [
    "import pandas as pd\n",
    "from pathlib import Path\n",
    "from sklearn.manifold import TSNE\n",
    "import matplotlib.pyplot as plt\n",
    "from sklearn.preprocessing import StandardScaler\n",
    "from sklearn.decomposition import PCA\n",
    "from sklearn.cluster import KMeans"
   ]
  },
  {
   "cell_type": "code",
   "execution_count": null,
   "id": "d0a295fc",
   "metadata": {},
   "outputs": [],
   "source": [
    "# import csv data\n",
    "file_path = 'myopia.csv'\n",
    "myopia_data = pd.read_csv(file_path)\n",
    "myopia_data.head()"
   ]
  },
  {
   "cell_type": "code",
   "execution_count": null,
   "id": "1a934512",
   "metadata": {},
   "outputs": [],
   "source": [
    "#clansing the data by removing myopic column\n",
    "clean_myopia_data = myopia_data.drop(['MYOPIC'], axis=1)\n",
    "clean_myopia_data.head()"
   ]
  },
  {
   "cell_type": "code",
   "execution_count": null,
   "id": "c6fa0713",
   "metadata": {},
   "outputs": [],
   "source": [
    "#check for duplicates\n",
    "print(f\"Duplicates: {clean_myopia_data.duplicated().sum()}\")"
   ]
  },
  {
   "cell_type": "code",
   "execution_count": null,
   "id": "c7aff18c",
   "metadata": {},
   "outputs": [],
   "source": [
    "# scaling data\n",
    "from sklearn.preprocessing import StandardScaler\n",
    "scaler = StandardScaler()\n",
    "scaled_data = scaler.fit_transform(clean_myopia_data)\n",
    "finilized_myopia_data = pd.DataFrame(scaled_data, columns=clean_myopia_data.columns)\n",
    "finilized_myopia_data.head()"
   ]
  },
  {
   "cell_type": "code",
   "execution_count": null,
   "id": "e60be6ac",
   "metadata": {},
   "outputs": [],
   "source": [
    "# initialize PCA model \n",
    "pca = PCA(n_components=0.9)\n",
    "\n",
    "# get principal components\n",
    "myopia_pca = pca.fit_transform(finilized_myopia_data)\n",
    "\n",
    "# variance ratio explained\n",
    "pca.explained_variance_ratio_"
   ]
  },
  {
   "cell_type": "code",
   "execution_count": null,
   "id": "f3dd0238",
   "metadata": {},
   "outputs": [],
   "source": [
    "#convert pca data to dataframe\n",
    "myopia_pca_data = pd.DataFrame(data=myopia_pca, columns=[\"PCA1\", \"PCA2\", \"PCA3\", \"PCA4\", \"PCA5\", \"PCA6\", \"PCA7\", \"PCA8\",\n",
    "                                                         \"PCA9\", \"PCA10\"])\n",
    "myopia_pca_data.head()"
   ]
  },
  {
   "cell_type": "code",
   "execution_count": null,
   "id": "0de5ffe5",
   "metadata": {},
   "outputs": [],
   "source": [
    "# tnse\n",
    "tsne = TSNE(learning_rate=100)\n",
    "tsne_features = tsne.fit_transform(myopia_pca_data)\n",
    "tsne_features.shape"
   ]
  },
  {
   "cell_type": "code",
   "execution_count": null,
   "id": "02e534a9",
   "metadata": {},
   "outputs": [],
   "source": [
    "#plotting the dataset\n",
    "myopia_pca_data['x'] = tsne_features[:,0]\n",
    "myopia_pca_data['y'] = tsne_features[:,1]\n",
    "plt.scatter(myopia_pca_data['x'], myopia_pca_data['y'])\n",
    "plt.show()"
   ]
  },
  {
   "cell_type": "code",
   "execution_count": null,
   "id": "08b4e03b",
   "metadata": {},
   "outputs": [],
   "source": []
  }
 ],
 "metadata": {
  "kernelspec": {
   "display_name": "Python [conda env:PythonData38]",
   "language": "python",
   "name": "conda-env-PythonData38-py"
  },
  "language_info": {
   "codemirror_mode": {
    "name": "ipython",
    "version": 3
   },
   "file_extension": ".py",
   "mimetype": "text/x-python",
   "name": "python",
   "nbconvert_exporter": "python",
   "pygments_lexer": "ipython3",
   "version": "3.8.12"
  }
 },
 "nbformat": 4,
 "nbformat_minor": 5
}
